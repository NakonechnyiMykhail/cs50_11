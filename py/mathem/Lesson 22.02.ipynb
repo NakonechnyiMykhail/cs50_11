{
 "cells": [
  {
   "cell_type": "markdown",
   "id": "metallic-custody",
   "metadata": {},
   "source": [
    "<h1>Math calculation</h1>\n",
    "\n",
    "See markdown <a href='https://www.markdownguide.org/basic-syntax'>guide</a>\n",
    "<!--# Header-->\n",
    "<h2>Derive calculation</h2>"
   ]
  },
  {
   "cell_type": "markdown",
   "id": "comparative-tackle",
   "metadata": {},
   "source": [
    "import library <b>sympy</b>"
   ]
  },
  {
   "cell_type": "code",
   "execution_count": 1,
   "id": "forced-cylinder",
   "metadata": {},
   "outputs": [],
   "source": [
    "from sympy import *"
   ]
  },
  {
   "cell_type": "markdown",
   "id": "proprietary-coating",
   "metadata": {},
   "source": [
    "we create variebles\n",
    "\n",
    " x - ..."
   ]
  },
  {
   "cell_type": "code",
   "execution_count": 2,
   "id": "acceptable-oregon",
   "metadata": {},
   "outputs": [],
   "source": [
    "x = symbols('x')"
   ]
  },
  {
   "cell_type": "markdown",
   "id": "attractive-swaziland",
   "metadata": {},
   "source": [
    "we write down a function of calculation\n"
   ]
  },
  {
   "cell_type": "code",
   "execution_count": 4,
   "id": "filled-theater",
   "metadata": {},
   "outputs": [],
   "source": [
    "f = sin(x)"
   ]
  },
  {
   "cell_type": "markdown",
   "id": "amended-syntax",
   "metadata": {},
   "source": [
    "function to derive a function"
   ]
  },
  {
   "cell_type": "code",
   "execution_count": 5,
   "id": "linear-africa",
   "metadata": {},
   "outputs": [],
   "source": [
    "y = diff(f, x, 1)"
   ]
  },
  {
   "cell_type": "code",
   "execution_count": 6,
   "id": "mighty-hierarchy",
   "metadata": {},
   "outputs": [
    {
     "name": "stdout",
     "output_type": "stream",
     "text": [
      "cos(x)\n"
     ]
    }
   ],
   "source": [
    "print(y)"
   ]
  },
  {
   "cell_type": "code",
   "execution_count": 7,
   "id": "convenient-stable",
   "metadata": {},
   "outputs": [],
   "source": [
    "f = 3*x*sin(2*x)"
   ]
  },
  {
   "cell_type": "code",
   "execution_count": 8,
   "id": "cellular-description",
   "metadata": {},
   "outputs": [
    {
     "name": "stdout",
     "output_type": "stream",
     "text": [
      "6*x*cos(2*x) + 3*sin(2*x)\n"
     ]
    }
   ],
   "source": [
    "y = diff(f, x, 1)\n",
    "print(y)"
   ]
  },
  {
   "cell_type": "code",
   "execution_count": 9,
   "id": "increased-douglas",
   "metadata": {},
   "outputs": [
    {
     "name": "stdout",
     "output_type": "stream",
     "text": [
      "2*h*x**2*cos(h**2*x**2)\n"
     ]
    }
   ],
   "source": [
    "h = symbols('h')\n",
    "f2 = sin(x**2 * h**2)\n",
    "y2 = diff(f2, h, 1)\n",
    "print(y2)"
   ]
  },
  {
   "cell_type": "markdown",
   "id": "handled-savannah",
   "metadata": {},
   "source": [
    "<h2>Integration</h2>"
   ]
  },
  {
   "cell_type": "code",
   "execution_count": 10,
   "id": "compact-advantage",
   "metadata": {},
   "outputs": [
    {
     "name": "stdout",
     "output_type": "stream",
     "text": [
      "x**2\n"
     ]
    }
   ],
   "source": [
    "x = symbols('x')\n",
    "f = 2 * x\n",
    "y = integrate(f)\n",
    "print(y)"
   ]
  },
  {
   "cell_type": "code",
   "execution_count": 11,
   "id": "editorial-referral",
   "metadata": {},
   "outputs": [
    {
     "name": "stdout",
     "output_type": "stream",
     "text": [
      "-cos(x)\n"
     ]
    }
   ],
   "source": [
    "f = sin(x)\n",
    "y = integrate(f, x)\n",
    "print(y)"
   ]
  },
  {
   "cell_type": "code",
   "execution_count": 12,
   "id": "motivated-orleans",
   "metadata": {},
   "outputs": [
    {
     "name": "stdout",
     "output_type": "stream",
     "text": [
      "exp(x)\n"
     ]
    }
   ],
   "source": [
    "f = exp(x)\n",
    "y = integrate(f, x)\n",
    "print(y)"
   ]
  },
  {
   "cell_type": "code",
   "execution_count": 13,
   "id": "cardiac-terrain",
   "metadata": {},
   "outputs": [
    {
     "name": "stdout",
     "output_type": "stream",
     "text": [
      "x*log(x) - x\n"
     ]
    }
   ],
   "source": [
    "f = log(x)\n",
    "y = integrate(f, x)\n",
    "print(y)"
   ]
  },
  {
   "cell_type": "code",
   "execution_count": 17,
   "id": "economic-peninsula",
   "metadata": {},
   "outputs": [
    {
     "name": "stdout",
     "output_type": "stream",
     "text": [
      "x*atan(z)\n"
     ]
    }
   ],
   "source": [
    "z = symbols('z')\n",
    "f = x /(1 + z**2)\n",
    "y = integrate(f,z)\n",
    "print(y)"
   ]
  },
  {
   "cell_type": "code",
   "execution_count": 19,
   "id": "ceramic-blake",
   "metadata": {},
   "outputs": [
    {
     "name": "stdout",
     "output_type": "stream",
     "text": [
      "x*z + z**3/3\n"
     ]
    }
   ],
   "source": [
    "z = symbols('z')\n",
    "f = x /1 + z**2\n",
    "y = integrate(f,z)\n",
    "print(y)"
   ]
  },
  {
   "cell_type": "code",
   "execution_count": 21,
   "id": "institutional-discipline",
   "metadata": {},
   "outputs": [
    {
     "name": "stdout",
     "output_type": "stream",
     "text": [
      "665/3\n"
     ]
    }
   ],
   "source": [
    "f = x**2\n",
    "y = integrate(f,(x, 4, 9))\n",
    "print(y)"
   ]
  },
  {
   "cell_type": "markdown",
   "id": "nominated-shelf",
   "metadata": {},
   "source": [
    "<h2>Plotting functions</h2>"
   ]
  },
  {
   "cell_type": "code",
   "execution_count": 25,
   "id": "treated-papua",
   "metadata": {},
   "outputs": [
    {
     "data": {
      "image/png": "[encoded data removed]",
      "text/plain": [
       "<Figure size 432x288 with 1 Axes>"
      ]
     },
     "metadata": {
      "needs_background": "light"
     },
     "output_type": "display_data"
    }
   ],
   "source": [
    "from numpy import *\n",
    "import matplotlib.pyplot as plt\n",
    " \n",
    "t = linspace(-1, 1, 51)\n",
    "y = t**2\n",
    " \n",
    "plt.plot(t, y, 'g--', label='t^2*exp(-t^2)')\n",
    "\n",
    "plt.axis([-1, 1, -0.05, 0.5])  # задание [xmin, xmax, ymin, ymax]\n",
    "plt.xlabel('t')    # обозначение оси абсцисс\n",
    "plt.ylabel('y')    # обозначение оси ординат\n",
    "plt.title('My first normal plot')  # название графика\n",
    "plt.legend()       # вставка легенды (текста в label)\n",
    " \n",
    "plt.show()"
   ]
  },
  {
   "cell_type": "code",
   "execution_count": null,
   "id": "emotional-council",
   "metadata": {},
   "outputs": [],
   "source": []
  }
 ],
 "metadata": {
  "kernelspec": {
   "display_name": "Python 3",
   "language": "python",
   "name": "python3"
  },
  "language_info": {
   "codemirror_mode": {
    "name": "ipython",
    "version": 3
   },
   "file_extension": ".py",
   "mimetype": "text/x-python",
   "name": "python",
   "nbconvert_exporter": "python",
   "pygments_lexer": "ipython3",
   "version": "3.9.1"
  }
 },
 "nbformat": 4,
 "nbformat_minor": 5
}
